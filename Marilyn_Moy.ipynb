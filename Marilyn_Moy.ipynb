{
  "nbformat": 4,
  "nbformat_minor": 0,
  "metadata": {
    "colab": {
      "provenance": []
    },
    "kernelspec": {
      "name": "python3",
      "display_name": "Python 3"
    },
    "language_info": {
      "name": "python"
    }
  },
  "cells": [
    {
      "cell_type": "code",
      "execution_count": 7,
      "metadata": {
        "colab": {
          "base_uri": "https://localhost:8080/"
        },
        "id": "cdxWYsC5EW_3",
        "outputId": "1ffd61dd-df48-4fb0-eb80-3d5c80f8aee0"
      },
      "outputs": [
        {
          "output_type": "stream",
          "name": "stderr",
          "text": [
            "[nltk_data] Downloading package stopwords to /root/nltk_data...\n",
            "[nltk_data]   Unzipping corpora/stopwords.zip.\n"
          ]
        },
        {
          "output_type": "execute_result",
          "data": {
            "text/plain": [
              "True"
            ]
          },
          "metadata": {},
          "execution_count": 7
        }
      ],
      "source": [
        "# importing the libraries we need for text analysis and text cleaning\n",
        "\n",
        "import nltk\n",
        "from nltk.corpus import stopwords\n",
        "# for google colab:\n",
        "nltk.download('stopwords')\n"
      ]
    },
    {
      "cell_type": "code",
      "source": [
        "import nltk\n",
        "nltk.download('gutenberg')\n"
      ],
      "metadata": {
        "colab": {
          "base_uri": "https://localhost:8080/"
        },
        "id": "Sj-YOSvjFKK0",
        "outputId": "9c9ffa94-0461-429b-d382-ca1abfef6e0f"
      },
      "execution_count": 8,
      "outputs": [
        {
          "output_type": "stream",
          "name": "stderr",
          "text": [
            "[nltk_data] Downloading package gutenberg to /root/nltk_data...\n",
            "[nltk_data]   Unzipping corpora/gutenberg.zip.\n"
          ]
        },
        {
          "output_type": "execute_result",
          "data": {
            "text/plain": [
              "True"
            ]
          },
          "metadata": {},
          "execution_count": 8
        }
      ]
    },
    {
      "cell_type": "code",
      "source": [
        "import nltk\n",
        "nltk.download('genesis')\n",
        "import nltk\n",
        "nltk.download('inaugural')\n",
        "import nltk\n",
        "nltk.download('nps_chat')\n",
        "import nltk\n",
        "nltk.download('webtext')\n",
        "import nltk\n",
        "nltk.download('treebank')\n",
        "from nltk.book import *"
      ],
      "metadata": {
        "colab": {
          "base_uri": "https://localhost:8080/"
        },
        "id": "tWBRfxAwFaq7",
        "outputId": "bbd20c31-c99e-4d47-dda8-1df3d5083735"
      },
      "execution_count": 9,
      "outputs": [
        {
          "output_type": "stream",
          "name": "stderr",
          "text": [
            "[nltk_data] Downloading package genesis to /root/nltk_data...\n",
            "[nltk_data]   Unzipping corpora/genesis.zip.\n",
            "[nltk_data] Downloading package inaugural to /root/nltk_data...\n",
            "[nltk_data]   Unzipping corpora/inaugural.zip.\n",
            "[nltk_data] Downloading package nps_chat to /root/nltk_data...\n",
            "[nltk_data]   Unzipping corpora/nps_chat.zip.\n",
            "[nltk_data] Downloading package webtext to /root/nltk_data...\n",
            "[nltk_data]   Unzipping corpora/webtext.zip.\n",
            "[nltk_data] Downloading package treebank to /root/nltk_data...\n",
            "[nltk_data]   Unzipping corpora/treebank.zip.\n"
          ]
        },
        {
          "output_type": "stream",
          "name": "stdout",
          "text": [
            "*** Introductory Examples for the NLTK Book ***\n",
            "Loading text1, ..., text9 and sent1, ..., sent9\n",
            "Type the name of the text or sentence to view it.\n",
            "Type: 'texts()' or 'sents()' to list the materials.\n",
            "text1: Moby Dick by Herman Melville 1851\n",
            "text2: Sense and Sensibility by Jane Austen 1811\n",
            "text3: The Book of Genesis\n",
            "text4: Inaugural Address Corpus\n",
            "text5: Chat Corpus\n",
            "text6: Monty Python and the Holy Grail\n",
            "text7: Wall Street Journal\n",
            "text8: Personals Corpus\n",
            "text9: The Man Who Was Thursday by G . K . Chesterton 1908\n"
          ]
        }
      ]
    },
    {
      "cell_type": "code",
      "source": [
        "# checking the type of our text\n",
        "# we have a \"nltk.text.Text\" object which allows us to use NLTK methods\n",
        "\n",
        "import nltk  \n",
        "nltk.corpus.gutenberg.fileids() \n",
        "['17396-8.txt']"
      ],
      "metadata": {
        "colab": {
          "base_uri": "https://localhost:8080/"
        },
        "id": "njjJ9esuGYCd",
        "outputId": "5329f1d7-197f-4033-ae88-7deffd1ee437"
      },
      "execution_count": 10,
      "outputs": [
        {
          "output_type": "execute_result",
          "data": {
            "text/plain": [
              "['17396-8.txt']"
            ]
          },
          "metadata": {},
          "execution_count": 10
        }
      ]
    },
    {
      "cell_type": "code",
      "source": [
        "type('17396-8.txt')"
      ],
      "metadata": {
        "colab": {
          "base_uri": "https://localhost:8080/"
        },
        "id": "5FkawWf5HpAk",
        "outputId": "7d12fc19-4d82-42e0-c801-b42bfd530e3d"
      },
      "execution_count": 11,
      "outputs": [
        {
          "output_type": "execute_result",
          "data": {
            "text/plain": [
              "str"
            ]
          },
          "metadata": {},
          "execution_count": 11
        }
      ]
    },
    {
      "cell_type": "code",
      "source": [
        "import nltk\n",
        "nltk.corpus.gutenberg.fileids()"
      ],
      "metadata": {
        "colab": {
          "base_uri": "https://localhost:8080/"
        },
        "id": "BUUgLm93JzlS",
        "outputId": "cb5637de-fb3f-40c2-e41f-d603b6012eb4"
      },
      "execution_count": 12,
      "outputs": [
        {
          "output_type": "execute_result",
          "data": {
            "text/plain": [
              "['austen-emma.txt',\n",
              " 'austen-persuasion.txt',\n",
              " 'austen-sense.txt',\n",
              " 'bible-kjv.txt',\n",
              " 'blake-poems.txt',\n",
              " 'bryant-stories.txt',\n",
              " 'burgess-busterbrown.txt',\n",
              " 'carroll-alice.txt',\n",
              " 'chesterton-ball.txt',\n",
              " 'chesterton-brown.txt',\n",
              " 'chesterton-thursday.txt',\n",
              " 'edgeworth-parents.txt',\n",
              " 'melville-moby_dick.txt',\n",
              " 'milton-paradise.txt',\n",
              " 'shakespeare-caesar.txt',\n",
              " 'shakespeare-hamlet.txt',\n",
              " 'shakespeare-macbeth.txt',\n",
              " 'whitman-leaves.txt']"
            ]
          },
          "metadata": {},
          "execution_count": 12
        }
      ]
    },
    {
      "cell_type": "code",
      "source": [
        "\t\n",
        "caesar = nltk.corpus.gutenberg.words('shakespeare-caesar.txt')\n",
        "len(caesar)\n"
      ],
      "metadata": {
        "colab": {
          "base_uri": "https://localhost:8080/"
        },
        "id": "VZa4zDrnKOLu",
        "outputId": "ddcdb155-b71a-4f7b-979f-822655451bef"
      },
      "execution_count": 13,
      "outputs": [
        {
          "output_type": "execute_result",
          "data": {
            "text/plain": [
              "25833"
            ]
          },
          "metadata": {},
          "execution_count": 13
        }
      ]
    },
    {
      "cell_type": "code",
      "source": [
        "type(caesar)"
      ],
      "metadata": {
        "colab": {
          "base_uri": "https://localhost:8080/"
        },
        "id": "t1_c-KcmK0dQ",
        "outputId": "9e6eba7d-6155-4050-c4b2-a9e858355a7e"
      },
      "execution_count": 14,
      "outputs": [
        {
          "output_type": "execute_result",
          "data": {
            "text/plain": [
              "nltk.corpus.reader.util.StreamBackedCorpusView"
            ]
          },
          "metadata": {},
          "execution_count": 14
        }
      ]
    },
    {
      "cell_type": "code",
      "source": [
        "# check the first 10 words of our text\n",
        "\n",
        "caesar[:10]"
      ],
      "metadata": {
        "colab": {
          "base_uri": "https://localhost:8080/"
        },
        "id": "iWuzXL5mK7zE",
        "outputId": "40b0ab38-974e-49d0-aa4c-1c693fddadb9"
      },
      "execution_count": 15,
      "outputs": [
        {
          "output_type": "execute_result",
          "data": {
            "text/plain": [
              "['[',\n",
              " 'The',\n",
              " 'Tragedie',\n",
              " 'of',\n",
              " 'Julius',\n",
              " 'Caesar',\n",
              " 'by',\n",
              " 'William',\n",
              " 'Shakespeare',\n",
              " '1599']"
            ]
          },
          "metadata": {},
          "execution_count": 15
        }
      ]
    },
    {
      "cell_type": "code",
      "source": [
        "# count the times \"Caesar\" with a capital A appears\n",
        "\n",
        "caesar.count('Caesar')"
      ],
      "metadata": {
        "colab": {
          "base_uri": "https://localhost:8080/"
        },
        "id": "jvNh6zutMIJB",
        "outputId": "17b208b3-e762-4a61-b4c6-256e21f85267"
      },
      "execution_count": 16,
      "outputs": [
        {
          "output_type": "execute_result",
          "data": {
            "text/plain": [
              "189"
            ]
          },
          "metadata": {},
          "execution_count": 16
        }
      ]
    },
    {
      "cell_type": "code",
      "source": [
        "# count the times \"Caesar\" with all capitals appears\n",
        "# this is a problem -- we want NLTK to count every instance, \n",
        "# and not to distinguish between capital and lowercase\n",
        "\n",
        "caesar.count('CAESAR')"
      ],
      "metadata": {
        "colab": {
          "base_uri": "https://localhost:8080/"
        },
        "id": "Z1bROkSIMZjA",
        "outputId": "7229b42b-e22e-49ec-9916-f30d81cc28d3"
      },
      "execution_count": 17,
      "outputs": [
        {
          "output_type": "execute_result",
          "data": {
            "text/plain": [
              "0"
            ]
          },
          "metadata": {},
          "execution_count": 17
        }
      ]
    },
    {
      "cell_type": "code",
      "source": [
        "caesar[:100]"
      ],
      "metadata": {
        "colab": {
          "base_uri": "https://localhost:8080/"
        },
        "id": "PD245RECMoE_",
        "outputId": "6800bfb5-5e1a-4910-a37d-ae5dfea89070"
      },
      "execution_count": 18,
      "outputs": [
        {
          "output_type": "execute_result",
          "data": {
            "text/plain": [
              "['[',\n",
              " 'The',\n",
              " 'Tragedie',\n",
              " 'of',\n",
              " 'Julius',\n",
              " 'Caesar',\n",
              " 'by',\n",
              " 'William',\n",
              " 'Shakespeare',\n",
              " '1599',\n",
              " ']',\n",
              " 'Actus',\n",
              " 'Primus',\n",
              " '.',\n",
              " 'Scoena',\n",
              " 'Prima',\n",
              " '.',\n",
              " 'Enter',\n",
              " 'Flauius',\n",
              " ',',\n",
              " 'Murellus',\n",
              " ',',\n",
              " 'and',\n",
              " 'certaine',\n",
              " 'Commoners',\n",
              " 'ouer',\n",
              " 'the',\n",
              " 'Stage',\n",
              " '.',\n",
              " 'Flauius',\n",
              " '.',\n",
              " 'Hence',\n",
              " ':',\n",
              " 'home',\n",
              " 'you',\n",
              " 'idle',\n",
              " 'Creatures',\n",
              " ',',\n",
              " 'get',\n",
              " 'you',\n",
              " 'home',\n",
              " ':',\n",
              " 'Is',\n",
              " 'this',\n",
              " 'a',\n",
              " 'Holiday',\n",
              " '?',\n",
              " 'What',\n",
              " ',',\n",
              " 'know',\n",
              " 'you',\n",
              " 'not',\n",
              " '(',\n",
              " 'Being',\n",
              " 'Mechanicall',\n",
              " ')',\n",
              " 'you',\n",
              " 'ought',\n",
              " 'not',\n",
              " 'walke',\n",
              " 'Vpon',\n",
              " 'a',\n",
              " 'labouring',\n",
              " 'day',\n",
              " ',',\n",
              " 'without',\n",
              " 'the',\n",
              " 'signe',\n",
              " 'Of',\n",
              " 'your',\n",
              " 'Profession',\n",
              " '?',\n",
              " 'Speake',\n",
              " ',',\n",
              " 'what',\n",
              " 'Trade',\n",
              " 'art',\n",
              " 'thou',\n",
              " '?',\n",
              " 'Car',\n",
              " '.',\n",
              " 'Why',\n",
              " 'Sir',\n",
              " ',',\n",
              " 'a',\n",
              " 'Carpenter',\n",
              " 'Mur',\n",
              " '.',\n",
              " 'Where',\n",
              " 'is',\n",
              " 'thy',\n",
              " 'Leather',\n",
              " 'Apron',\n",
              " ',',\n",
              " 'and',\n",
              " 'thy',\n",
              " 'Rule',\n",
              " '?',\n",
              " 'What',\n",
              " 'dost']"
            ]
          },
          "metadata": {},
          "execution_count": 18
        }
      ]
    },
    {
      "cell_type": "code",
      "source": [
        "caesar.count('CASSIUS')"
      ],
      "metadata": {
        "colab": {
          "base_uri": "https://localhost:8080/"
        },
        "id": "KY0mxIcJNmGv",
        "outputId": "f192b94d-1f20-46fe-bba0-1d17d98b550d"
      },
      "execution_count": 19,
      "outputs": [
        {
          "output_type": "execute_result",
          "data": {
            "text/plain": [
              "0"
            ]
          },
          "metadata": {},
          "execution_count": 19
        }
      ]
    },
    {
      "cell_type": "code",
      "source": [
        "caesar.count('SCENE')"
      ],
      "metadata": {
        "colab": {
          "base_uri": "https://localhost:8080/"
        },
        "id": "cF7uqMzSOQyX",
        "outputId": "f496b6fd-dd86-4ad5-d16e-7a482c35c72a"
      },
      "execution_count": 21,
      "outputs": [
        {
          "output_type": "execute_result",
          "data": {
            "text/plain": [
              "0"
            ]
          },
          "metadata": {},
          "execution_count": 21
        }
      ]
    },
    {
      "cell_type": "code",
      "source": [
        "caesar.count('Exit')"
      ],
      "metadata": {
        "colab": {
          "base_uri": "https://localhost:8080/"
        },
        "id": "6sRXA6SEOZK2",
        "outputId": "353393ac-e2b9-468d-a08b-0a8486fc1dbf"
      },
      "execution_count": 22,
      "outputs": [
        {
          "output_type": "execute_result",
          "data": {
            "text/plain": [
              "12"
            ]
          },
          "metadata": {},
          "execution_count": 22
        }
      ]
    },
    {
      "cell_type": "code",
      "source": [
        "# write a loop that removes capital letters\n",
        "\n",
        "# first create an empty list to put our new text (that has\n",
        "# no capitals)\n",
        "lowercase = []\n",
        "\n",
        "# then write a loop that goes to each word in the text,\n",
        "# lowercases the word, and appends it to our new list.\n",
        "for token in caesar:\n",
        "    lowercase.append(token.lower())"
      ],
      "metadata": {
        "id": "2eQHpD7jPBVO"
      },
      "execution_count": 23,
      "outputs": []
    },
    {
      "cell_type": "code",
      "source": [
        "# check the results\n",
        "\n",
        "lowercase[:30]"
      ],
      "metadata": {
        "colab": {
          "base_uri": "https://localhost:8080/"
        },
        "id": "2Vn9Fp2VPKPV",
        "outputId": "8b0a5e1d-36ae-414d-c2e5-7dbb29f61327"
      },
      "execution_count": 24,
      "outputs": [
        {
          "output_type": "execute_result",
          "data": {
            "text/plain": [
              "['[',\n",
              " 'the',\n",
              " 'tragedie',\n",
              " 'of',\n",
              " 'julius',\n",
              " 'caesar',\n",
              " 'by',\n",
              " 'william',\n",
              " 'shakespeare',\n",
              " '1599',\n",
              " ']',\n",
              " 'actus',\n",
              " 'primus',\n",
              " '.',\n",
              " 'scoena',\n",
              " 'prima',\n",
              " '.',\n",
              " 'enter',\n",
              " 'flauius',\n",
              " ',',\n",
              " 'murellus',\n",
              " ',',\n",
              " 'and',\n",
              " 'certaine',\n",
              " 'commoners',\n",
              " 'ouer',\n",
              " 'the',\n",
              " 'stage',\n",
              " '.',\n",
              " 'flauius']"
            ]
          },
          "metadata": {},
          "execution_count": 24
        }
      ]
    },
    {
      "cell_type": "code",
      "source": [
        "# saving list as an NLTK object so can run NLTK functions\n",
        "lower = nltk.Text(lowercase)\n",
        "\n",
        "# checking the most common strings\n",
        "lower.vocab().most_common(30)"
      ],
      "metadata": {
        "colab": {
          "base_uri": "https://localhost:8080/"
        },
        "id": "nAgImHopPXnF",
        "outputId": "bef568f8-6c53-4eb1-f85c-41343daf10fa"
      },
      "execution_count": 25,
      "outputs": [
        {
          "output_type": "execute_result",
          "data": {
            "text/plain": [
              "[(',', 2204),\n",
              " ('.', 1296),\n",
              " ('and', 627),\n",
              " ('the', 579),\n",
              " ('i', 533),\n",
              " (':', 499),\n",
              " ('to', 446),\n",
              " ('you', 391),\n",
              " (\"'\", 384),\n",
              " ('of', 354),\n",
              " ('?', 296),\n",
              " ('that', 289),\n",
              " ('a', 267),\n",
              " ('not', 257),\n",
              " ('is', 253),\n",
              " ('in', 225),\n",
              " ('d', 215),\n",
              " ('my', 209),\n",
              " ('it', 198),\n",
              " ('caesar', 190),\n",
              " ('me', 188),\n",
              " ('he', 177),\n",
              " ('for', 176),\n",
              " ('this', 166),\n",
              " ('him', 166),\n",
              " ('will', 163),\n",
              " ('brutus', 161),\n",
              " ('his', 157),\n",
              " ('bru', 153),\n",
              " ('with', 150)]"
            ]
          },
          "metadata": {},
          "execution_count": 25
        }
      ]
    },
    {
      "cell_type": "code",
      "source": [
        "# isalpha() checks if the object has only alphabetic characters\n",
        "\n",
        "'Wowzers!'.isalpha()"
      ],
      "metadata": {
        "colab": {
          "base_uri": "https://localhost:8080/"
        },
        "id": "qJPuHkbcPz4m",
        "outputId": "a90393d9-a71a-4e9d-dc90-2813e55f5261"
      },
      "execution_count": 26,
      "outputs": [
        {
          "output_type": "execute_result",
          "data": {
            "text/plain": [
              "False"
            ]
          },
          "metadata": {},
          "execution_count": 26
        }
      ]
    },
    {
      "cell_type": "code",
      "source": [
        "no_punct = []\n",
        "\n",
        "for token in lower:\n",
        "    if token.isalpha():\n",
        "        no_punct.append(token)"
      ],
      "metadata": {
        "id": "EVdYie-4QA2G"
      },
      "execution_count": 27,
      "outputs": []
    },
    {
      "cell_type": "code",
      "source": [
        "no_punct[:20]"
      ],
      "metadata": {
        "colab": {
          "base_uri": "https://localhost:8080/"
        },
        "id": "s9v98PD-QIEm",
        "outputId": "617e0f9a-9a5f-4813-a4d1-b769f40fcd36"
      },
      "execution_count": 28,
      "outputs": [
        {
          "output_type": "execute_result",
          "data": {
            "text/plain": [
              "['the',\n",
              " 'tragedie',\n",
              " 'of',\n",
              " 'julius',\n",
              " 'caesar',\n",
              " 'by',\n",
              " 'william',\n",
              " 'shakespeare',\n",
              " 'actus',\n",
              " 'primus',\n",
              " 'scoena',\n",
              " 'prima',\n",
              " 'enter',\n",
              " 'flauius',\n",
              " 'murellus',\n",
              " 'and',\n",
              " 'certaine',\n",
              " 'commoners',\n",
              " 'ouer',\n",
              " 'the']"
            ]
          },
          "metadata": {},
          "execution_count": 28
        }
      ]
    },
    {
      "cell_type": "code",
      "source": [
        "no_punct = nltk.Text(no_punct)"
      ],
      "metadata": {
        "id": "OZs1QoiAQSD9"
      },
      "execution_count": 29,
      "outputs": []
    },
    {
      "cell_type": "code",
      "source": [
        "no_punct.vocab().most_common(20)"
      ],
      "metadata": {
        "colab": {
          "base_uri": "https://localhost:8080/"
        },
        "id": "Th3Nd8UgQaFt",
        "outputId": "4907b62a-f01e-466b-fc17-95ab96fe7028"
      },
      "execution_count": 30,
      "outputs": [
        {
          "output_type": "execute_result",
          "data": {
            "text/plain": [
              "[('and', 627),\n",
              " ('the', 579),\n",
              " ('i', 533),\n",
              " ('to', 446),\n",
              " ('you', 391),\n",
              " ('of', 354),\n",
              " ('that', 289),\n",
              " ('a', 267),\n",
              " ('not', 257),\n",
              " ('is', 253),\n",
              " ('in', 225),\n",
              " ('d', 215),\n",
              " ('my', 209),\n",
              " ('it', 198),\n",
              " ('caesar', 190),\n",
              " ('me', 188),\n",
              " ('he', 177),\n",
              " ('for', 176),\n",
              " ('this', 166),\n",
              " ('him', 166)]"
            ]
          },
          "metadata": {},
          "execution_count": 30
        }
      ]
    },
    {
      "cell_type": "code",
      "source": [
        "stops = stopwords.words('english')"
      ],
      "metadata": {
        "id": "aQf-i4ugQhiV"
      },
      "execution_count": 31,
      "outputs": []
    },
    {
      "cell_type": "code",
      "source": [
        "stops\n"
      ],
      "metadata": {
        "colab": {
          "base_uri": "https://localhost:8080/"
        },
        "id": "ZNy0uvouQnMF",
        "outputId": "d790601d-deee-4ea3-cbc5-e26642ee12d2"
      },
      "execution_count": 32,
      "outputs": [
        {
          "output_type": "execute_result",
          "data": {
            "text/plain": [
              "['i',\n",
              " 'me',\n",
              " 'my',\n",
              " 'myself',\n",
              " 'we',\n",
              " 'our',\n",
              " 'ours',\n",
              " 'ourselves',\n",
              " 'you',\n",
              " \"you're\",\n",
              " \"you've\",\n",
              " \"you'll\",\n",
              " \"you'd\",\n",
              " 'your',\n",
              " 'yours',\n",
              " 'yourself',\n",
              " 'yourselves',\n",
              " 'he',\n",
              " 'him',\n",
              " 'his',\n",
              " 'himself',\n",
              " 'she',\n",
              " \"she's\",\n",
              " 'her',\n",
              " 'hers',\n",
              " 'herself',\n",
              " 'it',\n",
              " \"it's\",\n",
              " 'its',\n",
              " 'itself',\n",
              " 'they',\n",
              " 'them',\n",
              " 'their',\n",
              " 'theirs',\n",
              " 'themselves',\n",
              " 'what',\n",
              " 'which',\n",
              " 'who',\n",
              " 'whom',\n",
              " 'this',\n",
              " 'that',\n",
              " \"that'll\",\n",
              " 'these',\n",
              " 'those',\n",
              " 'am',\n",
              " 'is',\n",
              " 'are',\n",
              " 'was',\n",
              " 'were',\n",
              " 'be',\n",
              " 'been',\n",
              " 'being',\n",
              " 'have',\n",
              " 'has',\n",
              " 'had',\n",
              " 'having',\n",
              " 'do',\n",
              " 'does',\n",
              " 'did',\n",
              " 'doing',\n",
              " 'a',\n",
              " 'an',\n",
              " 'the',\n",
              " 'and',\n",
              " 'but',\n",
              " 'if',\n",
              " 'or',\n",
              " 'because',\n",
              " 'as',\n",
              " 'until',\n",
              " 'while',\n",
              " 'of',\n",
              " 'at',\n",
              " 'by',\n",
              " 'for',\n",
              " 'with',\n",
              " 'about',\n",
              " 'against',\n",
              " 'between',\n",
              " 'into',\n",
              " 'through',\n",
              " 'during',\n",
              " 'before',\n",
              " 'after',\n",
              " 'above',\n",
              " 'below',\n",
              " 'to',\n",
              " 'from',\n",
              " 'up',\n",
              " 'down',\n",
              " 'in',\n",
              " 'out',\n",
              " 'on',\n",
              " 'off',\n",
              " 'over',\n",
              " 'under',\n",
              " 'again',\n",
              " 'further',\n",
              " 'then',\n",
              " 'once',\n",
              " 'here',\n",
              " 'there',\n",
              " 'when',\n",
              " 'where',\n",
              " 'why',\n",
              " 'how',\n",
              " 'all',\n",
              " 'any',\n",
              " 'both',\n",
              " 'each',\n",
              " 'few',\n",
              " 'more',\n",
              " 'most',\n",
              " 'other',\n",
              " 'some',\n",
              " 'such',\n",
              " 'no',\n",
              " 'nor',\n",
              " 'not',\n",
              " 'only',\n",
              " 'own',\n",
              " 'same',\n",
              " 'so',\n",
              " 'than',\n",
              " 'too',\n",
              " 'very',\n",
              " 's',\n",
              " 't',\n",
              " 'can',\n",
              " 'will',\n",
              " 'just',\n",
              " 'don',\n",
              " \"don't\",\n",
              " 'should',\n",
              " \"should've\",\n",
              " 'now',\n",
              " 'd',\n",
              " 'll',\n",
              " 'm',\n",
              " 'o',\n",
              " 're',\n",
              " 've',\n",
              " 'y',\n",
              " 'ain',\n",
              " 'aren',\n",
              " \"aren't\",\n",
              " 'couldn',\n",
              " \"couldn't\",\n",
              " 'didn',\n",
              " \"didn't\",\n",
              " 'doesn',\n",
              " \"doesn't\",\n",
              " 'hadn',\n",
              " \"hadn't\",\n",
              " 'hasn',\n",
              " \"hasn't\",\n",
              " 'haven',\n",
              " \"haven't\",\n",
              " 'isn',\n",
              " \"isn't\",\n",
              " 'ma',\n",
              " 'mightn',\n",
              " \"mightn't\",\n",
              " 'mustn',\n",
              " \"mustn't\",\n",
              " 'needn',\n",
              " \"needn't\",\n",
              " 'shan',\n",
              " \"shan't\",\n",
              " 'shouldn',\n",
              " \"shouldn't\",\n",
              " 'wasn',\n",
              " \"wasn't\",\n",
              " 'weren',\n",
              " \"weren't\",\n",
              " 'won',\n",
              " \"won't\",\n",
              " 'wouldn',\n",
              " \"wouldn't\"]"
            ]
          },
          "metadata": {},
          "execution_count": 32
        }
      ]
    },
    {
      "cell_type": "code",
      "source": [
        "no_stops = []\n",
        "\n",
        "for i in no_punct:\n",
        "    if i not in stops:\n",
        "        no_stops.append(i)"
      ],
      "metadata": {
        "id": "DFZjDJpZQtTl"
      },
      "execution_count": 33,
      "outputs": []
    },
    {
      "cell_type": "code",
      "source": [
        "no_stops = nltk.Text(no_stops)"
      ],
      "metadata": {
        "id": "Rx8729RQQ1Xt"
      },
      "execution_count": 34,
      "outputs": []
    },
    {
      "cell_type": "code",
      "source": [
        "no_stops.vocab().most_common(20)"
      ],
      "metadata": {
        "colab": {
          "base_uri": "https://localhost:8080/"
        },
        "id": "9LDoG54WQ_WE",
        "outputId": "08583e9e-2611-4b75-a53d-90ef6a93e483"
      },
      "execution_count": 35,
      "outputs": [
        {
          "output_type": "execute_result",
          "data": {
            "text/plain": [
              "[('caesar', 190),\n",
              " ('brutus', 161),\n",
              " ('bru', 153),\n",
              " ('haue', 148),\n",
              " ('shall', 125),\n",
              " ('thou', 115),\n",
              " ('cassi', 107),\n",
              " ('cassius', 85),\n",
              " ('antony', 75),\n",
              " ('come', 74),\n",
              " ('good', 71),\n",
              " ('let', 71),\n",
              " ('know', 70),\n",
              " ('men', 69),\n",
              " ('enter', 64),\n",
              " ('vs', 63),\n",
              " ('heere', 59),\n",
              " ('man', 59),\n",
              " ('thy', 56),\n",
              " ('thee', 55)]"
            ]
          },
          "metadata": {},
          "execution_count": 35
        }
      ]
    },
    {
      "cell_type": "code",
      "source": [
        "# on colab:\n",
        "from nltk.stem import WordNetLemmatizer\n",
        "nltk.download('wordnet')\n",
        "nltk.download('omw-1.4')"
      ],
      "metadata": {
        "colab": {
          "base_uri": "https://localhost:8080/"
        },
        "id": "dAkcWOJXRGdj",
        "outputId": "2baa4c5c-ad2b-4a8d-9734-bd7ecba263ed"
      },
      "execution_count": 36,
      "outputs": [
        {
          "output_type": "stream",
          "name": "stderr",
          "text": [
            "[nltk_data] Downloading package wordnet to /root/nltk_data...\n",
            "[nltk_data] Downloading package omw-1.4 to /root/nltk_data...\n"
          ]
        },
        {
          "output_type": "execute_result",
          "data": {
            "text/plain": [
              "True"
            ]
          },
          "metadata": {},
          "execution_count": 36
        }
      ]
    },
    {
      "cell_type": "code",
      "source": [
        "# instantiating the lemmatizer\n",
        "\n",
        "lemmatizer = WordNetLemmatizer()"
      ],
      "metadata": {
        "id": "aG_UKtcSRTp3"
      },
      "execution_count": 37,
      "outputs": []
    },
    {
      "cell_type": "code",
      "source": [
        "lemmatizer.lemmatize(\"children\")"
      ],
      "metadata": {
        "colab": {
          "base_uri": "https://localhost:8080/",
          "height": 36
        },
        "id": "YbisS9vZRXYd",
        "outputId": "cd743dcc-472b-4c6f-8e3e-073a62900bc4"
      },
      "execution_count": 38,
      "outputs": [
        {
          "output_type": "execute_result",
          "data": {
            "text/plain": [
              "'child'"
            ],
            "application/vnd.google.colaboratory.intrinsic+json": {
              "type": "string"
            }
          },
          "metadata": {},
          "execution_count": 38
        }
      ]
    },
    {
      "cell_type": "code",
      "source": [
        "clean = []\n",
        "\n",
        "for token in caesar:\n",
        "    if token.isalpha():\n",
        "        if token not in stops:\n",
        "            lemmatizer = WordNetLemmatizer()\n",
        "            lemma = lemmatizer.lemmatize(token)\n",
        "            clean.append(lemma.lower())"
      ],
      "metadata": {
        "id": "TyRObqfuRfQt"
      },
      "execution_count": 39,
      "outputs": []
    },
    {
      "cell_type": "code",
      "source": [
        "clean[:20]"
      ],
      "metadata": {
        "colab": {
          "base_uri": "https://localhost:8080/"
        },
        "id": "nii7ey8KRkke",
        "outputId": "d92c022e-f751-4c9c-a42c-fe608b434b25"
      },
      "execution_count": 40,
      "outputs": [
        {
          "output_type": "execute_result",
          "data": {
            "text/plain": [
              "['the',\n",
              " 'tragedie',\n",
              " 'julius',\n",
              " 'caesar',\n",
              " 'william',\n",
              " 'shakespeare',\n",
              " 'actus',\n",
              " 'primus',\n",
              " 'scoena',\n",
              " 'prima',\n",
              " 'enter',\n",
              " 'flauius',\n",
              " 'murellus',\n",
              " 'certaine',\n",
              " 'commoners',\n",
              " 'ouer',\n",
              " 'stage',\n",
              " 'flauius',\n",
              " 'hence',\n",
              " 'home']"
            ]
          },
          "metadata": {},
          "execution_count": 40
        }
      ]
    },
    {
      "cell_type": "code",
      "source": [
        "# for grabbing text from the web - project gutenberg\n",
        "\n",
        "from urllib.request import urlopen"
      ],
      "metadata": {
        "id": "86LnlXf4R-0d"
      },
      "execution_count": 41,
      "outputs": []
    },
    {
      "cell_type": "code",
      "source": [
        "garden = 'https://www.gutenberg.org/files/113/113-0.txt'"
      ],
      "metadata": {
        "id": "VI8Bck4kfK4t"
      },
      "execution_count": 42,
      "outputs": []
    },
    {
      "cell_type": "code",
      "source": [
        "def clean(url):\n",
        "    stops = stopwords.words('english')\n",
        "    wordnet_lemmatizer = WordNetLemmatizer()\n",
        "    \n",
        "    open_url = urlopen(url)\n",
        "    read_text = open_url.read()\n",
        "    decoded_text = read_text.decode()\n",
        "    tokens = nltk.word_tokenize(decoded_text)\n",
        "    \n",
        "    text = [] \n",
        "    for word in tokens:\n",
        "        if word.isalpha(): \n",
        "            if word not in stops:\n",
        "                lemma = wordnet_lemmatizer.lemmatize(word)\n",
        "                text.append(word.lower())     \n",
        "    \n",
        "    return text"
      ],
      "metadata": {
        "id": "6eit0k7Lfq1t"
      },
      "execution_count": 43,
      "outputs": []
    },
    {
      "cell_type": "code",
      "source": [
        "import nltk\n",
        "nltk.download('punkt')\n",
        "\n",
        "# call the clean function on \"garden\"\n",
        "# save the results to a variable\n",
        "\n",
        "garden = clean(garden)"
      ],
      "metadata": {
        "colab": {
          "base_uri": "https://localhost:8080/"
        },
        "id": "uol4ok5CfzXE",
        "outputId": "8502f52a-bb3f-4739-e964-8ff10da2684d"
      },
      "execution_count": 44,
      "outputs": [
        {
          "output_type": "stream",
          "name": "stderr",
          "text": [
            "[nltk_data] Downloading package punkt to /root/nltk_data...\n",
            "[nltk_data]   Package punkt is already up-to-date!\n"
          ]
        }
      ]
    },
    {
      "cell_type": "code",
      "source": [
        "garden[:20]\n",
        "\n"
      ],
      "metadata": {
        "colab": {
          "base_uri": "https://localhost:8080/"
        },
        "id": "P8n09Gy5gOCF",
        "outputId": "caa294f4-80d9-4579-cbf7-02a0f62e7d97"
      },
      "execution_count": 45,
      "outputs": [
        {
          "output_type": "execute_result",
          "data": {
            "text/plain": [
              "['project',\n",
              " 'gutenberg',\n",
              " 'ebook',\n",
              " 'the',\n",
              " 'secret',\n",
              " 'garden',\n",
              " 'frances',\n",
              " 'hodgson',\n",
              " 'burnett',\n",
              " 'this',\n",
              " 'ebook',\n",
              " 'use',\n",
              " 'anyone',\n",
              " 'anywhere',\n",
              " 'united',\n",
              " 'states',\n",
              " 'parts',\n",
              " 'world',\n",
              " 'cost',\n",
              " 'almost']"
            ]
          },
          "metadata": {},
          "execution_count": 45
        }
      ]
    },
    {
      "cell_type": "code",
      "source": [
        "type(garden)"
      ],
      "metadata": {
        "colab": {
          "base_uri": "https://localhost:8080/"
        },
        "id": "C7WRW55XgXZk",
        "outputId": "91484cc6-9b03-48d3-928a-c6bc1c603d8c"
      },
      "execution_count": 46,
      "outputs": [
        {
          "output_type": "execute_result",
          "data": {
            "text/plain": [
              "list"
            ]
          },
          "metadata": {},
          "execution_count": 46
        }
      ]
    },
    {
      "cell_type": "code",
      "source": [
        "# create an NLTK object\n",
        "\n",
        "garden = nltk.Text(garden)"
      ],
      "metadata": {
        "id": "H5gpRg-cgcbP"
      },
      "execution_count": 47,
      "outputs": []
    },
    {
      "cell_type": "code",
      "source": [
        "type(garden)"
      ],
      "metadata": {
        "colab": {
          "base_uri": "https://localhost:8080/"
        },
        "id": "V_T-OMdGgjR1",
        "outputId": "286c9fe0-8562-41b6-920c-d9ede3039865"
      },
      "execution_count": 48,
      "outputs": [
        {
          "output_type": "execute_result",
          "data": {
            "text/plain": [
              "nltk.text.Text"
            ]
          },
          "metadata": {},
          "execution_count": 48
        }
      ]
    },
    {
      "cell_type": "code",
      "source": [
        "# similar(), concordance(), dispersion_plot([]), .vocab().most_common(20), \n",
        "# collocations(), and common_contexts([])\n",
        "\n",
        "garden.vocab().most_common(20)"
      ],
      "metadata": {
        "colab": {
          "base_uri": "https://localhost:8080/"
        },
        "id": "Jbvgzr5ggnW8",
        "outputId": "37c4961b-e4e0-466d-8675-f428ee57f81a"
      },
      "execution_count": 60,
      "outputs": [
        {
          "output_type": "execute_result",
          "data": {
            "text/plain": [
              "[('i', 1386),\n",
              " ('said', 828),\n",
              " ('mary', 690),\n",
              " ('he', 497),\n",
              " ('she', 466),\n",
              " ('th', 369),\n",
              " ('like', 341),\n",
              " ('it', 336),\n",
              " ('one', 335),\n",
              " ('colin', 328),\n",
              " ('tha', 317),\n",
              " ('dickon', 303),\n",
              " ('the', 278),\n",
              " ('could', 233),\n",
              " ('would', 230),\n",
              " ('looked', 224),\n",
              " ('little', 222),\n",
              " ('garden', 218),\n",
              " ('see', 202),\n",
              " ('martha', 195)]"
            ]
          },
          "metadata": {},
          "execution_count": 60
        }
      ]
    },
    {
      "cell_type": "code",
      "source": [
        "garden.dispersion_plot(['mary','love','garden','lonely'])"
      ],
      "metadata": {
        "colab": {
          "base_uri": "https://localhost:8080/",
          "height": 472
        },
        "id": "vPwKhFIRu4cL",
        "outputId": "6218c588-a62a-47f1-8893-9a8be02d49da"
      },
      "execution_count": 67,
      "outputs": [
        {
          "output_type": "display_data",
          "data": {
            "text/plain": [
              "<Figure size 640x480 with 1 Axes>"
            ],
            "image/png": "[encoded data removed]"
          },
          "metadata": {}
        }
      ]
    },
    {
      "cell_type": "code",
      "source": [
        "garden.similar('mary')"
      ],
      "metadata": {
        "colab": {
          "base_uri": "https://localhost:8080/"
        },
        "id": "ieiat4RT0vVp",
        "outputId": "7da617f8-84ee-4127-be02-071197055dc0"
      },
      "execution_count": 69,
      "outputs": [
        {
          "output_type": "stream",
          "name": "stdout",
          "text": [
            "colin i dickon martha she medlock last nice and tha nurse he slowly\n",
            "roach if one said it when always\n"
          ]
        }
      ]
    },
    {
      "cell_type": "code",
      "source": [
        "garden.similar('garden')"
      ],
      "metadata": {
        "colab": {
          "base_uri": "https://localhost:8080/"
        },
        "id": "BBQ1-jv01Ejl",
        "outputId": "700e45f9-6e7d-4771-b86f-2ec5c809eeb8"
      },
      "execution_count": 70,
      "outputs": [
        {
          "output_type": "stream",
          "name": "stdout",
          "text": [
            "like colin said look world one i mistress cry shall go know morning\n",
            "see got queer feel matter make looking\n"
          ]
        }
      ]
    },
    {
      "cell_type": "code",
      "source": [
        "garden.similar('lonely')"
      ],
      "metadata": {
        "colab": {
          "base_uri": "https://localhost:8080/"
        },
        "id": "uCmr7hGI1LYQ",
        "outputId": "d1da3b02-4f71-4f8e-d4a2-7ed46c8f1e83"
      },
      "execution_count": 71,
      "outputs": [
        {
          "output_type": "stream",
          "name": "stdout",
          "text": [
            "tired one ever shall wanted care made would came want know books\n",
            "nothing play like thought long got well think\n"
          ]
        }
      ]
    },
    {
      "cell_type": "code",
      "source": [
        "garden.similar('queer')"
      ],
      "metadata": {
        "colab": {
          "base_uri": "https://localhost:8080/"
        },
        "id": "QUKaKCdT1Qdm",
        "outputId": "e55e924e-b660-451b-8381-1854f9348b93"
      },
      "execution_count": 72,
      "outputs": [
        {
          "output_type": "stream",
          "name": "stdout",
          "text": [
            "first garden know tell like beautiful asked make may give making one\n",
            "left mistress cry ever bit colin said shall\n"
          ]
        }
      ]
    },
    {
      "cell_type": "code",
      "source": [
        "garden.similar('dickon')"
      ],
      "metadata": {
        "colab": {
          "base_uri": "https://localhost:8080/"
        },
        "id": "XzkO_f2R1Wjp",
        "outputId": "72cf4c86-c3c1-4325-e5c1-3958ffa7c377"
      },
      "execution_count": 73,
      "outputs": [
        {
          "output_type": "stream",
          "name": "stdout",
          "text": [
            "mary said colin i like if martha it boy he talk robin tha come ben\n",
            "weatherstaff when mother she never\n"
          ]
        }
      ]
    },
    {
      "cell_type": "code",
      "source": [
        "garden.similar('colin')"
      ],
      "metadata": {
        "colab": {
          "base_uri": "https://localhost:8080/"
        },
        "id": "vqgJKwEB1dhM",
        "outputId": "3970b5e0-e2bd-423e-cc09-aef8a27cc711"
      },
      "execution_count": 74,
      "outputs": [
        {
          "output_type": "stream",
          "name": "stdout",
          "text": [
            "mary i martha dickon craven medlock garden you she last nurse slowly\n",
            "looking the if ever said first want nothing\n"
          ]
        }
      ]
    },
    {
      "cell_type": "code",
      "source": [
        "garden.similar('play')"
      ],
      "metadata": {
        "colab": {
          "base_uri": "https://localhost:8080/"
        },
        "id": "FOx9aCjy1io6",
        "outputId": "f2d87e9d-70dd-421e-9ff5-01bdb948ca0e"
      },
      "execution_count": 75,
      "outputs": [
        {
          "output_type": "stream",
          "name": "stdout",
          "text": [
            "one go like i mary ever come shall wanted care made would came want\n",
            "know books nothing done tell alone\n"
          ]
        }
      ]
    },
    {
      "cell_type": "code",
      "source": [
        "garden.similar('secret')"
      ],
      "metadata": {
        "colab": {
          "base_uri": "https://localhost:8080/"
        },
        "id": "Lb9E8FkP1vVD",
        "outputId": "4c10b7c0-9855-4fe7-818d-316d408feeb1"
      },
      "execution_count": 77,
      "outputs": [
        {
          "output_type": "stream",
          "name": "stdout",
          "text": [
            "said round away i across way rajah went magic let chapter seen ill go\n",
            "really want thought back talked rude\n"
          ]
        }
      ]
    },
    {
      "cell_type": "code",
      "source": [
        "garden.similar('magic')"
      ],
      "metadata": {
        "colab": {
          "base_uri": "https://localhost:8080/"
        },
        "id": "_m04VTcy10-i",
        "outputId": "e90764b3-a58c-498c-d76a-4c09bbb46782"
      },
      "execution_count": 78,
      "outputs": [
        {
          "output_type": "stream",
          "name": "stdout",
          "text": [
            "come she like the secret garden i robin bit colin it mother understand\n",
            "would boy officer eyes strong long well\n"
          ]
        }
      ]
    },
    {
      "cell_type": "code",
      "source": [
        "garden.vocab().most_common(70)"
      ],
      "metadata": {
        "colab": {
          "base_uri": "https://localhost:8080/"
        },
        "id": "mToJkQdx2CUD",
        "outputId": "6ff23503-0bf7-43c1-f5ab-d468943595cf"
      },
      "execution_count": 81,
      "outputs": [
        {
          "output_type": "execute_result",
          "data": {
            "text/plain": [
              "[('i', 1386),\n",
              " ('said', 828),\n",
              " ('mary', 690),\n",
              " ('he', 497),\n",
              " ('she', 466),\n",
              " ('th', 369),\n",
              " ('like', 341),\n",
              " ('it', 336),\n",
              " ('one', 335),\n",
              " ('colin', 328),\n",
              " ('tha', 317),\n",
              " ('dickon', 303),\n",
              " ('the', 278),\n",
              " ('could', 233),\n",
              " ('would', 230),\n",
              " ('looked', 224),\n",
              " ('little', 222),\n",
              " ('garden', 218),\n",
              " ('see', 202),\n",
              " ('martha', 195),\n",
              " ('things', 192),\n",
              " ('never', 184),\n",
              " ('quite', 183),\n",
              " ('know', 175),\n",
              " ('come', 172),\n",
              " ('look', 169),\n",
              " ('you', 168),\n",
              " ('made', 163),\n",
              " ('thought', 163),\n",
              " ('go', 161),\n",
              " ('back', 155),\n",
              " ('there', 140),\n",
              " ('seemed', 138),\n",
              " ('answered', 136),\n",
              " ('and', 136),\n",
              " ('ben', 135),\n",
              " ('but', 131),\n",
              " ('eyes', 131),\n",
              " ('medlock', 131),\n",
              " ('think', 122),\n",
              " ('door', 122),\n",
              " ('ever', 120),\n",
              " ('much', 119),\n",
              " ('they', 119),\n",
              " ('get', 118),\n",
              " ('way', 116),\n",
              " ('went', 115),\n",
              " ('face', 115),\n",
              " ('away', 114),\n",
              " ('time', 114),\n",
              " ('if', 113),\n",
              " ('weatherstaff', 112),\n",
              " ('long', 111),\n",
              " ('craven', 111),\n",
              " ('got', 109),\n",
              " ('going', 109),\n",
              " ('felt', 109),\n",
              " ('always', 107),\n",
              " ('must', 107),\n",
              " ('mother', 106),\n",
              " ('boy', 106),\n",
              " ('robin', 105),\n",
              " ('want', 105),\n",
              " ('day', 104),\n",
              " ('tell', 103),\n",
              " ('round', 103),\n",
              " ('when', 102),\n",
              " ('began', 102),\n",
              " ('asked', 102),\n",
              " ('what', 101)]"
            ]
          },
          "metadata": {},
          "execution_count": 81
        }
      ]
    },
    {
      "cell_type": "code",
      "source": [
        "garden.concordance('secret')"
      ],
      "metadata": {
        "colab": {
          "base_uri": "https://localhost:8080/"
        },
        "id": "e8EfLFiX2ZVE",
        "outputId": "789c55eb-d4be-4e73-9be1-c4c47ca68500"
      },
      "execution_count": 82,
      "outputs": [
        {
          "output_type": "stream",
          "name": "stdout",
          "text": [
            "Displaying 25 of 72 matches:\n",
            "project gutenberg ebook the secret garden frances hodgson burnett this\n",
            "untry located using ebook title the secret garden author frances hodgson burne\n",
            " of the project gutenberg ebook the secret garden the secret garden frances ho\n",
            "tenberg ebook the secret garden the secret garden frances hodgson burnett the \n",
            "rather suddenly path i believe tree secret feel sure said there wall round pla\n",
            "itement wonder delight she standing secret garden chapter ix the strangest hou\n",
            " little she must careful meant keep secret kingdom she harm craven found open \n",
            "er dickon the sun shone nearly week secret garden the secret garden mary calle\n",
            "shone nearly week secret garden the secret garden mary called thinking she lik\n",
            "ace the books read liked books read secret gardens stories sometimes people we\n",
            "longer could skip hundred the bulbs secret garden must much astonished such ni\n",
            "changing getting nicer if one found secret garden enjoy always she stayed ten \n",
            "rld flowers there walk curved round secret garden ended gate opened wood park \n",
            "nything boys said slowly could keep secret i told one it great secret i know i\n",
            "uld keep secret i told one it great secret i know i anyone found i believe i d\n",
            "ved hand round defiantly it said it secret garden i one world wants dickon loo\n",
            "dy said mary anxiously it seem like secret garden dickon stood rubbing head ra\n",
            "rubbing head rather puzzled look it secret garden sure enough said seems like \n",
            "winter even autumn would time watch secret garden come alive even found took a\n",
            "ound place dickon seen he gone away secret garden robin flown across wall sat \n",
            "sage he meant might sure would keep secret her garden nest like missel thrush \n",
            "t must find it seemed even stranger secret garden buried key perhaps fact rebe\n",
            "id what queer house everything kind secret rooms locked gardens locked have lo\n",
            "roat make open door take like never secret he leaned still farther forward a s\n",
            "t he leaned still farther forward a secret said what mean tell mary words almo\n"
          ]
        }
      ]
    },
    {
      "cell_type": "code",
      "source": [
        "garden.concordance('felt')"
      ],
      "metadata": {
        "colab": {
          "base_uri": "https://localhost:8080/"
        },
        "id": "feGlksWJ2upI",
        "outputId": "9c49e9a4-f425-4ff2-ca9a-004c70086505"
      },
      "execution_count": 83,
      "outputs": [
        {
          "output_type": "stream",
          "name": "stdout",
          "text": [
            "Displaying 25 of 109 matches:\n",
            "n she timid child exactly frightened felt knowing might happen house hundred r\n",
            "er rushed fast great deal noise mary felt drive would never come end wide blea\n",
            "looked small odd little black figure felt small lost odd looked a neat thin ol\n",
            "ed misselthwaite manor perhaps never felt quite contrary life chapter iv marth\n",
            "here hunters horses dogs ladies mary felt forest out deep window could see gre\n",
            "a you know nothing anything she rage felt helpless girl simple stare somehow s\n",
            "s girl simple stare somehow suddenly felt horribly lonely far away everything \n",
            "actually began wonder also nasty she felt uncomfortable suddenly clear ripplin\n",
            " misselthwaite manor in india always felt hot languid care much anything the f\n",
            "ed doors nearly day sat supper night felt hungry drowsy comfortable she feel c\n",
            "feel cross martha chattered away she felt rather liked hear last thought would\n",
            "t since came misselthwaite manor she felt understood robin understood run wind\n",
            "child crying presently mistress mary felt quite sure sound inside house outsid\n",
            "e stared faces also seemed stare she felt wondering little girl india house so\n",
            " turned she almost frightened moment felt turned without difficulty pushed upo\n",
            "ind she found great deal morning she felt long journey rate something amuse ti\n",
            "ng week baking enjoy thoroughly mary felt lonelier ever knew longer house she \n",
            "she counted times carefully finished felt better spirits the sunshine made who\n",
            "ginning care want new things already felt less contrary though know she put ke\n",
            "a run outside play thy mistress mary felt little awkward went room yorkshire p\n",
            "greeted chirp as mary skipped toward felt something heavy pocket strike jump s\n",
            "rful garden could come door ivy time felt found world the sun shining inside f\n",
            "oin said ben wrinkling face way mary felt sure trying look pleased tha thinks \n",
            " roses sudden demanded mistress mary felt face grow red she almost afraid answ\n",
            "ered actually little sorry she never felt sorry felt tired cross disliked peop\n"
          ]
        }
      ]
    },
    {
      "cell_type": "code",
      "source": [
        "garden.concordance('eyes')"
      ],
      "metadata": {
        "colab": {
          "base_uri": "https://localhost:8080/"
        },
        "id": "-roCrI1f24RN",
        "outputId": "3d6b2bcf-1b35-47d6-ea96-d829dca19463"
      },
      "execution_count": 84,
      "outputs": [
        {
          "output_type": "stream",
          "name": "stdout",
          "text": [
            "Displaying 25 of 131 matches:\n",
            "med disdaining things large laughing eyes all clothes thin floating mary said \n",
            "they looked fuller lace ever morning eyes laughing they large scared lifted im\n",
            "wine made sleepy could scarcely keep eyes open lay bed knew nothing long time \n",
            " little snake gliding along watching eyes like jewels she frightened harmless \n",
            "ked sadly mary even thought saw wink eyes wink tears away poor little kid said\n",
            "first basil little boy impudent blue eyes nose mary hated she playing tree pla\n",
            "e stout woman red cheeks sharp black eyes she wore purple dress black silk man\n",
            "n got good money big place till mary eyes turned toward spite intention seem c\n",
            "eadily grayness grew heavier heavier eyes fell asleep chapter iii across the m\n",
            " shaking you sleep said it time open eyes we thwaite station got long drive ma\n",
            "got long drive mary stood tried keep eyes open medlock collected parcels the l\n",
            "tions waited darkness corner keeping eyes window the carriage lamps cast rays \n",
            "y life chapter iv martha when opened eyes morning young housemaid come room li\n",
            "ed little mary thought black dewdrop eyes gazed great curiosity it really seem\n",
            "ped red color cheeks brightened dull eyes know anything but days spent almost \n",
            "e dress held green parrot finger her eyes sharp curious look where live said m\n",
            "ole peeped tiny head pair frightened eyes mary crept softly across room look t\n",
            "t softly across room look the bright eyes belonged little gray mouse mouse eat\n",
            "y to the garden two days mary opened eyes sat upright bed immediately called m\n",
            "kon mother like hear talk why dickon eyes nearly started head got round answer\n",
            "she skip walked she went slowly kept eyes ground she looked old border beds am\n",
            "or slipped ivy she red cheeks bright eyes ate dinner martha delighted two piec\n",
            "rst came garden thinks i i never set eyes uglier sourer faced young mary vain \n",
            " robin spread could scarcely believe eyes he flew right handle ben weatherstaf\n",
            " never mistress mary seen round blue eyes boy face and trunk tree leaned brown\n"
          ]
        }
      ]
    },
    {
      "cell_type": "code",
      "source": [
        "garden.concordance('face')"
      ],
      "metadata": {
        "colab": {
          "base_uri": "https://localhost:8080/"
        },
        "id": "f1o5e6314Tac",
        "outputId": "27329543-bb49-40fa-decf-8d7fbfa93428"
      },
      "execution_count": 85,
      "outputs": [
        {
          "output_type": "stream",
          "name": "stdout",
          "text": [
            "Displaying 25 of 115 matches:\n",
            "ld ever seen it true she little thin face little thin body thin light hair sou\n",
            "hair sour expression her hair yellow face yellow born india always ill one way\n",
            " lifted imploringly fair boy officer face is bad oh mary heard say awfully you\n",
            "ed know think they tried kind turned face away crawford attempted kiss held st\n",
            "anding perhaps mother carried pretty face pretty manners oftener nursery mary \n",
            "rson ever seen common highly colored face common fine bonnet when next day set\n",
            "ck staring queer unresponsive little face she say moments began i suppose migh\n",
            "t enough deserve happened and turned face toward streaming panes window railwa\n",
            "ther side she leaned forward pressed face window carriage gave big jolt eh we \n",
            "lease thank mary always slapped ayah face angry she wondered little girl would\n",
            "ndered little girl would one slapped face she round rosy looking creature stur\n",
            "erything understood understood threw face downward pillows burst passionate so\n",
            "ed saw mary touched cap he surly old face seem pleased see displeased garden w\n",
            "little bird brought look sour little face almost smile she listened flew away \n",
            "st sitting one to surprise surly old face actually changed expression a slow s\n",
            " she ran make warm hated wind rushed face roared held back giant could see but\n",
            "ck coming bunch keys hand cross look face what said took mary arm pulled away \n",
            "n rub grate she thinking small plain face look quite sour moment done first mo\n",
            "misselthwaite well moor kept lifting face looking trying imagine would like li\n",
            " mary stood looked almost frightened face hung finger perhaps buried ten years\n",
            "the interest curiosity mistress mary face delighted went skipping counted skip\n",
            "make little garden would give martha face quite lighted there exclaimed one th\n",
            "inks tha get doin said ben wrinkling face way mary felt sure trying look pleas\n",
            "taff spade alighted top then old man face wrinkled slowly new expression he st\n",
            "d mary would plant bulbs mostly mary face lighted do like roses said ben weath\n"
          ]
        }
      ]
    },
    {
      "cell_type": "code",
      "source": [
        "garden.concordance('time')"
      ],
      "metadata": {
        "colab": {
          "base_uri": "https://localhost:8080/"
        },
        "id": "DYk_SNyZ4jMJ",
        "outputId": "9dc17379-38dc-4208-888e-fe3eb76ef270"
      },
      "execution_count": 86,
      "outputs": [
        {
          "output_type": "stream",
          "name": "stdout",
          "text": [
            "Displaying 25 of 114 matches:\n",
            " a tantrum xviii tha munnot waste no time xix it has come xx i shall live ever\n",
            "m sahib would angry disturbed crying time six years old tyrannical selfish lit\n",
            "me try fill always went away shorter time first one so mary chosen really want\n",
            "hibiscus blossoms little heaps earth time growing angry muttering things would\n",
            " eyes open lay bed knew nothing long time many things happened hours slept hea\n",
            "les she stopped remembered something time he got crooked back said that set wr\n",
            "tinued interest this one way passing time rate she sweet pretty thing walked w\n",
            "r he cares nobody he see people most time goes away misselthwaite shuts west w\n",
            "r iii across the moor she slept long time awakened medlock bought lunchbasket \n",
            "on medlock shaking you sleep said it time open eyes we thwaite station got lon\n",
            "ing different long least seemed long time at last horses began go slowly climb\n",
            "artha evidently least aware impudent time tha learn tha begin younger it thee \n",
            "came quiet martha looked relieved it time thee get said mrs medlock said i car\n",
            "eaves bushy elsewhere it seemed long time part neglected the rest clipped made\n",
            "sang loudly that reminded mary first time seen he swinging standing orchard no\n",
            "od grown warm healthily hungry first time life found sorry someone but listeni\n",
            "got home he found young crow another time brought home tamed it named soot bla\n",
            "d it named soot black hops flies the time come mary forgotten resent martha fa\n",
            "tes morning martha swept hearth last time gone downstairs she thinking new ide\n",
            "et stood footstool played quite long time when got tired set elephants order s\n",
            "lt long journey rate something amuse time played ivory elephants seen gray mou\n",
            "a cheerful grin th storm bit it like time th year it goes night like pretendin\n",
            "in ready grow things it glad plantin time comes it dull th winter got nowt in \n",
            " seen inside ten year ten years long time mary thought she born ten years ago \n",
            "k outside long wall could see second time walked interesting exciting thing ha\n"
          ]
        }
      ]
    },
    {
      "cell_type": "code",
      "source": [
        "garden.collocations()"
      ],
      "metadata": {
        "colab": {
          "base_uri": "https://localhost:8080/"
        },
        "id": "j7-CvBwo4ykL",
        "outputId": "d7e3ec0f-1841-4270-c567-d3dcc1379157"
      },
      "execution_count": 89,
      "outputs": [
        {
          "output_type": "stream",
          "name": "stdout",
          "text": [
            "ben weatherstaff; said mary; mistress mary; project gutenberg; fresh\n",
            "air; secret garden; united states; every day; great deal; literary\n",
            "archive; susan sowerby; ten years; archive foundation; electronic\n",
            "works; gutenberg literary; project electronic; little girl; said\n",
            "colin; misselthwaite manor; green points\n"
          ]
        }
      ]
    },
    {
      "cell_type": "code",
      "source": [
        "garden.common_contexts(['secret'])"
      ],
      "metadata": {
        "colab": {
          "base_uri": "https://localhost:8080/"
        },
        "id": "ApV2KEAE5V50",
        "outputId": "24145e42-44bb-43f7-e0c0-a83b1b8aa9c7"
      },
      "execution_count": 91,
      "outputs": [
        {
          "output_type": "stream",
          "name": "stdout",
          "text": [
            "the_garden keep_i it_garden like_garden went_garden tree_feel\n",
            "standing_garden keep_kingdom week_garden read_gardens bulbs_garden\n",
            "found_garden round_garden great_i watch_garden away_garden keep_her\n",
            "stranger_garden kind_rooms never_he\n"
          ]
        }
      ]
    },
    {
      "cell_type": "code",
      "source": [
        "garden.common_contexts(['garden'])"
      ],
      "metadata": {
        "colab": {
          "base_uri": "https://localhost:8080/"
        },
        "id": "D_D_p0_u5g3c",
        "outputId": "0fe27e8b-60be-45de-f6a4-d78572b4798b"
      },
      "execution_count": 92,
      "outputs": [
        {
          "output_type": "stream",
          "name": "stdout",
          "text": [
            "secret_i th_tools secret_frances secret_the how_grow secret_mary\n",
            "secret_ended secret_dickon forget_i round_when in_said secret_author\n",
            "the_viii the_chapter wandered_began paths_basil it_he thinking_one\n",
            "this_shut could_shut\n"
          ]
        }
      ]
    },
    {
      "cell_type": "code",
      "source": [
        "garden.common_contexts(['play'])"
      ],
      "metadata": {
        "colab": {
          "base_uri": "https://localhost:8080/"
        },
        "id": "8Tz9q44J5tch",
        "outputId": "35ee659c-f897-40a4-9f9d-1d680670951f"
      },
      "execution_count": 93,
      "outputs": [
        {
          "output_type": "stream",
          "name": "stdout",
          "text": [
            "began_tree would_by you_look moor_day run_said learn_like gone_i\n",
            "i_said nothing_nothin nothin_exclaimed could_said make_play play_quite\n",
            "let_th outside_thy sort_she want_i gone_thee want_doors i_wind\n"
          ]
        }
      ]
    },
    {
      "cell_type": "code",
      "source": [
        "garden.common_contexts(['face'])"
      ],
      "metadata": {
        "colab": {
          "base_uri": "https://localhost:8080/"
        },
        "id": "2jcjhYo15zcR",
        "outputId": "e4cf49dc-ffab-4c4e-cd47-b0e10190020a"
      },
      "execution_count": 94,
      "outputs": [
        {
          "output_type": "stream",
          "name": "stdout",
          "text": [
            "little_she thin_little yellow_yellow officer_is turned_away\n",
            "pretty_pretty colored_common turned_toward pressed_window ayah_angry\n",
            "slapped_she threw_downward old_seem little_almost old_actually\n",
            "rushed_roared look_what plain_look lifting_looking frightened_hung\n"
          ]
        }
      ]
    },
    {
      "cell_type": "code",
      "source": [
        "garden.common_contexts(['queer'])"
      ],
      "metadata": {
        "colab": {
          "base_uri": "https://localhost:8080/"
        },
        "id": "qEcyv_hl5zmZ",
        "outputId": "4669121b-32e0-4726-a261-c915660e0142"
      },
      "execution_count": 96,
      "outputs": [
        {
          "output_type": "stream",
          "name": "stdout",
          "text": [
            "how_quiet think_thoughts staring_unresponsive going_mary words_broad\n",
            "driven_place friendly_yorkshire done_thing mary_feeling the_feeling\n",
            "seem_spoke it_said in_place women_grand spent_morning stare_faces\n",
            "art_thing everyone_grunting saying_another followed_almost\n"
          ]
        }
      ]
    },
    {
      "cell_type": "code",
      "source": [],
      "metadata": {
        "id": "JfE58U676FDa"
      },
      "execution_count": null,
      "outputs": []
    },
    {
      "cell_type": "code",
      "source": [
        "garden.common_contexts(['felt'])"
      ],
      "metadata": {
        "colab": {
          "base_uri": "https://localhost:8080/"
        },
        "id": "Qe3hIan-6FR5",
        "outputId": "b46666c5-4a21-4ff8-d7bb-0ac99aeb998a"
      },
      "execution_count": 97,
      "outputs": [
        {
          "output_type": "stream",
          "name": "stdout",
          "text": [
            "she_rather mary_quite frightened_knowing mary_drive figure_small\n",
            "never_quite mary_forest rage_helpless suddenly_horribly\n",
            "she_uncomfortable always_hot night_hungry she_understood she_wondering\n",
            "moment_turned she_long mary_lonelier finished_better already_less\n",
            "mary_little\n"
          ]
        }
      ]
    }
  ]
}